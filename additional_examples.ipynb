{
 "cells": [
  {
   "cell_type": "code",
   "execution_count": 1,
   "metadata": {
    "vscode": {
     "languageId": "ocaml"
    }
   },
   "outputs": [
    {
     "data": {
      "text/plain": [
       "- : int = 20\n"
      ]
     },
     "execution_count": 1,
     "metadata": {},
     "output_type": "execute_result"
    }
   ],
   "source": [
    "let x = 10 in x + 10"
   ]
  },
  {
   "cell_type": "code",
   "execution_count": null,
   "metadata": {
    "vscode": {
     "languageId": "ocaml"
    }
   },
   "outputs": [],
   "source": [
    "let x = 5 in\n",
    "(let y = 10 in\n",
    "x + y)\n",
    "\n",
    "(*\n",
    "(let y = 10 in\n",
    "(5 + y))\n",
    "*)\n",
    "\n",
    "(*\n",
    "(\n",
    "(5 + 10))\n",
    "*)"
   ]
  },
  {
   "cell_type": "code",
   "execution_count": null,
   "metadata": {
    "vscode": {
     "languageId": "ocaml"
    }
   },
   "outputs": [],
   "source": []
  },
  {
   "cell_type": "code",
   "execution_count": null,
   "metadata": {
    "vscode": {
     "languageId": "ocaml"
    }
   },
   "outputs": [],
   "source": [
    "let a = 3 in\n",
    "let b = 2 * a in\n",
    "b + a\n",
    "\n",
    "(*\n",
    "(let b = 2 * 3 in\n",
    "b + 3)\n",
    "*)\n",
    "\n",
    "(*\n",
    "((6 + 3))\n",
    "*)"
   ]
  },
  {
   "cell_type": "code",
   "execution_count": null,
   "metadata": {
    "vscode": {
     "languageId": "ocaml"
    }
   },
   "outputs": [],
   "source": [
    "let x = 7 in\n",
    "let x = x + 1 in\n",
    "let x = x * 2 in\n",
    "x\n",
    "\n",
    "(*\n",
    "let x = 7 in\n",
    "(let x = 7 + 1 in\n",
    "let x = x * 2 in\n",
    "x)\n",
    "*)\n",
    "\n",
    "(*\n",
    "(let x = 8 in\n",
    "(let x = 8 * 2 in\n",
    "x))\n",
    "*)\n",
    "\n",
    "(*\n",
    "((let x = 8 * 2 in\n",
    "(16)))\n",
    "*)"
   ]
  },
  {
   "cell_type": "code",
   "execution_count": null,
   "metadata": {
    "vscode": {
     "languageId": "ocaml"
    }
   },
   "outputs": [],
   "source": [
    "let x = 2 in\n",
    "let y = 3 in\n",
    "let z = x + y in\n",
    "let x = 5 in\n",
    "z * x"
   ]
  },
  {
   "cell_type": "code",
   "execution_count": null,
   "metadata": {
    "vscode": {
     "languageId": "ocaml"
    }
   },
   "outputs": [],
   "source": [
    "4 + 3.5"
   ]
  },
  {
   "cell_type": "code",
   "execution_count": null,
   "metadata": {
    "vscode": {
     "languageId": "ocaml"
    }
   },
   "outputs": [],
   "source": [
    "let a= 10 in 10\n",
    "let d = a + 10"
   ]
  },
  {
   "cell_type": "code",
   "execution_count": null,
   "metadata": {
    "vscode": {
     "languageId": "ocaml"
    }
   },
   "outputs": [],
   "source": [
    "let a = 3 in\n",
    "let b = \n",
    "  let a = 2 in\n",
    "  a + 1\n",
    "in\n",
    "a + b\n",
    "\n",
    "(*\n",
    "let a = 3 in\n",
    "(let b = \n",
    "  (let a = 2 in\n",
    "  a + 1)\n",
    "in\n",
    "a + b)\n",
    "*)\n",
    "\n",
    "(*\n",
    "let a = 3 in\n",
    "(let b = \n",
    "  (3)\n",
    "in\n",
    "a + b)\n",
    "*)"
   ]
  },
  {
   "cell_type": "code",
   "execution_count": null,
   "metadata": {
    "vscode": {
     "languageId": "ocaml"
    }
   },
   "outputs": [],
   "source": [
    "let a: float = 4 in\n",
    "let b = \n",
    "  let a = 4 * 2 in\n",
    "  let c = 8 + 3 in\n",
    "  11 - 8\n",
    "in\n",
    "4 + 3"
   ]
  },
  {
   "cell_type": "code",
   "execution_count": null,
   "metadata": {
    "vscode": {
     "languageId": "ocaml"
    }
   },
   "outputs": [],
   "source": [
    "(let a = 4 in\n",
    "(let b = \n",
    "  (let a = a * 2 in\n",
    "  (let c = a + 3 in\n",
    "  c - a))\n",
    "in\n",
    "a + b))"
   ]
  },
  {
   "cell_type": "code",
   "execution_count": null,
   "metadata": {
    "vscode": {
     "languageId": "ocaml"
    }
   },
   "outputs": [],
   "source": [
    "let x = 5\n",
    "let y = x + 3\n",
    "y"
   ]
  },
  {
   "cell_type": "code",
   "execution_count": null,
   "metadata": {
    "vscode": {
     "languageId": "ocaml"
    }
   },
   "outputs": [],
   "source": [
    "let a = 7\n",
    "let b = 2\n",
    "let result = a + b"
   ]
  },
  {
   "cell_type": "code",
   "execution_count": null,
   "metadata": {
    "vscode": {
     "languageId": "ocaml"
    }
   },
   "outputs": [],
   "source": [
    "let x = 4\n",
    "let result = \n",
    "  let x = 6 in\n",
    "  x * 2 + x"
   ]
  },
  {
   "cell_type": "code",
   "execution_count": null,
   "metadata": {
    "vscode": {
     "languageId": "ocaml"
    }
   },
   "outputs": [],
   "source": [
    "let x = 3\n",
    "let y = x + 2\n",
    "let z = y * 2\n",
    "z + x"
   ]
  },
  {
   "cell_type": "code",
   "execution_count": null,
   "metadata": {
    "vscode": {
     "languageId": "ocaml"
    }
   },
   "outputs": [],
   "source": [
    "let x = 8\n",
    "let x = x + 2 in\n",
    "let x = x * 3 in\n",
    "x - 5"
   ]
  },
  {
   "cell_type": "code",
   "execution_count": 8,
   "metadata": {
    "vscode": {
     "languageId": "ocaml"
    }
   },
   "outputs": [
    {
     "data": {
      "text/plain": [
       "val a : int = 10\n"
      ]
     },
     "execution_count": 8,
     "metadata": {},
     "output_type": "execute_result"
    },
    {
     "data": {
      "text/plain": [
       "val b : int = 5\n"
      ]
     },
     "execution_count": 8,
     "metadata": {},
     "output_type": "execute_result"
    },
    {
     "data": {
      "text/plain": [
       "val result : int = 17\n"
      ]
     },
     "execution_count": 8,
     "metadata": {},
     "output_type": "execute_result"
    }
   ],
   "source": [
    "let a = 10\n",
    "let b = 5\n",
    "let result =\n",
    "  let a = a - 3 in\n",
    "  let b = b * 2 in\n",
    "  a + b\n",
    "  \n",
    "(*\n",
    "let a = 10\n",
    "let b = 5\n",
    "let result =\n",
    "  let a = 10 - 3 in\n",
    "  let b = 5 * 2 in\n",
    "  a + b\n",
    "*)\n",
    "\n",
    "(*\n",
    "let a = 10\n",
    "let b = 5\n",
    "let result =\n",
    "  let a = 7 in\n",
    "  let b = 10 in\n",
    "  a + b\n",
    "*)\n",
    "\n",
    "(*\n",
    "let a = 10\n",
    "let b = 5\n",
    "let result =\n",
    "  let a = 7 in\n",
    "  (let b = 10 in\n",
    "  a + b)\n",
    "*)\n",
    "\n",
    "(*\n",
    "let a = 10\n",
    "let b = 5\n",
    "let result =\n",
    "  let a = 7 in\n",
    "  a + 10\n",
    "*)\n",
    "  "
   ]
  },
  {
   "cell_type": "code",
   "execution_count": 9,
   "metadata": {
    "vscode": {
     "languageId": "ocaml"
    }
   },
   "outputs": [
    {
     "data": {
      "text/plain": [
       "val double : int -> int = <fun>\n"
      ]
     },
     "execution_count": 9,
     "metadata": {},
     "output_type": "execute_result"
    }
   ],
   "source": [
    "let double x = x * 2"
   ]
  },
  {
   "cell_type": "code",
   "execution_count": 10,
   "metadata": {
    "vscode": {
     "languageId": "ocaml"
    }
   },
   "outputs": [
    {
     "data": {
      "text/plain": [
       "- : int = 20\n"
      ]
     },
     "execution_count": 10,
     "metadata": {},
     "output_type": "execute_result"
    }
   ],
   "source": [
    "double 10"
   ]
  },
  {
   "cell_type": "code",
   "execution_count": 11,
   "metadata": {
    "vscode": {
     "languageId": "ocaml"
    }
   },
   "outputs": [
    {
     "data": {
      "text/plain": [
       "val double : int -> int = <fun>\n"
      ]
     },
     "execution_count": 11,
     "metadata": {},
     "output_type": "execute_result"
    },
    {
     "data": {
      "text/plain": [
       "val result : int = 10\n"
      ]
     },
     "execution_count": 11,
     "metadata": {},
     "output_type": "execute_result"
    }
   ],
   "source": [
    "let double x = x * 2\n",
    "let result = double 5"
   ]
  },
  {
   "cell_type": "code",
   "execution_count": 12,
   "metadata": {
    "vscode": {
     "languageId": "ocaml"
    }
   },
   "outputs": [
    {
     "data": {
      "text/plain": [
       "val add : int -> int -> int = <fun>\n"
      ]
     },
     "execution_count": 12,
     "metadata": {},
     "output_type": "execute_result"
    },
    {
     "data": {
      "text/plain": [
       "val result : int = 7\n"
      ]
     },
     "execution_count": 12,
     "metadata": {},
     "output_type": "execute_result"
    }
   ],
   "source": [
    "let add a b = a + b\n",
    "let result = add 3 4"
   ]
  },
  {
   "cell_type": "code",
   "execution_count": 14,
   "metadata": {
    "vscode": {
     "languageId": "ocaml"
    }
   },
   "outputs": [
    {
     "data": {
      "text/plain": [
       "val square : int -> int = <fun>\n"
      ]
     },
     "execution_count": 14,
     "metadata": {},
     "output_type": "execute_result"
    }
   ],
   "source": [
    "let square x = x * x\n",
    "(*\n",
    "let square = fun x -> x * x\n",
    "*)"
   ]
  },
  {
   "cell_type": "code",
   "execution_count": 15,
   "metadata": {
    "vscode": {
     "languageId": "ocaml"
    }
   },
   "outputs": [
    {
     "data": {
      "text/plain": [
       "val add_square : int -> int -> int = <fun>\n"
      ]
     },
     "execution_count": 15,
     "metadata": {},
     "output_type": "execute_result"
    }
   ],
   "source": [
    "let add_square a b = square a + square b\n",
    "\n",
    "(*\n",
    "let add_square = fun a -> fun b -> square a + square b\n",
    "let add_square = fun a -> fun b -> (fun x -> x * x) a + (fun x -> x * x) b\n",
    "val add_square : int -> int -> int = <fun>\n",
    "*)"
   ]
  },
  {
   "cell_type": "code",
   "execution_count": 13,
   "metadata": {
    "vscode": {
     "languageId": "ocaml"
    }
   },
   "outputs": [
    {
     "data": {
      "text/plain": [
       "val square : int -> int = <fun>\n"
      ]
     },
     "execution_count": 13,
     "metadata": {},
     "output_type": "execute_result"
    },
    {
     "data": {
      "text/plain": [
       "val add_square : int -> int -> int = <fun>\n"
      ]
     },
     "execution_count": 13,
     "metadata": {},
     "output_type": "execute_result"
    },
    {
     "data": {
      "text/plain": [
       "val result : int = 25\n"
      ]
     },
     "execution_count": 13,
     "metadata": {},
     "output_type": "execute_result"
    }
   ],
   "source": [
    "let square x = x * x\n",
    "(*\n",
    "int -> int = <fun>\n",
    "*)\n",
    "\n",
    "let add_square a b = square a + square b\n",
    "(*\n",
    "\n",
    "*)\n",
    "(* let result = add_square 3 4 *)"
   ]
  },
  {
   "cell_type": "code",
   "execution_count": 16,
   "metadata": {
    "vscode": {
     "languageId": "ocaml"
    }
   },
   "outputs": [
    {
     "data": {
      "text/plain": [
       "val square : int -> int = <fun>\n"
      ]
     },
     "execution_count": 16,
     "metadata": {},
     "output_type": "execute_result"
    },
    {
     "data": {
      "text/plain": [
       "val result : int = 25\n"
      ]
     },
     "execution_count": 16,
     "metadata": {},
     "output_type": "execute_result"
    }
   ],
   "source": [
    "let square x = x * x\n",
    "let result =\n",
    "  let a = 3 in\n",
    "  let b = 4 in\n",
    "  square a + square b"
   ]
  },
  {
   "cell_type": "code",
   "execution_count": 17,
   "metadata": {
    "vscode": {
     "languageId": "ocaml"
    }
   },
   "outputs": [
    {
     "data": {
      "text/plain": [
       "- : int = 25\n"
      ]
     },
     "execution_count": 17,
     "metadata": {},
     "output_type": "execute_result"
    }
   ],
   "source": [
    "let a = 3 in\n",
    "  (let b = 4 in\n",
    "  square a + square b)\n",
    "  \n",
    "(*\n",
    "let a = 3 in\n",
    "  square a + 16)\n",
    "*)\n",
    "\n",
    "(*\n",
    "9 + 16\n",
    "*)"
   ]
  },
  {
   "cell_type": "code",
   "execution_count": 18,
   "metadata": {
    "vscode": {
     "languageId": "ocaml"
    }
   },
   "outputs": [
    {
     "data": {
      "text/plain": [
       "val inc : int -> int = <fun>\n"
      ]
     },
     "execution_count": 18,
     "metadata": {},
     "output_type": "execute_result"
    }
   ],
   "source": [
    "let inc x = x + 1\n",
    "(*\n",
    "type: int -> int\n",
    "val: <fun>\n",
    "*)"
   ]
  },
  {
   "cell_type": "code",
   "execution_count": null,
   "metadata": {
    "vscode": {
     "languageId": "ocaml"
    }
   },
   "outputs": [],
   "source": []
  },
  {
   "cell_type": "code",
   "execution_count": 19,
   "metadata": {
    "vscode": {
     "languageId": "ocaml"
    }
   },
   "outputs": [
    {
     "data": {
      "text/plain": [
       "val triple_inc : int -> int = <fun>\n"
      ]
     },
     "execution_count": 19,
     "metadata": {},
     "output_type": "execute_result"
    }
   ],
   "source": [
    "let triple_inc x = inc (inc (inc x))\n",
    "\n",
    "(*\n",
    "let triple_inc x = inc (inc )\n",
    "*)"
   ]
  },
  {
   "cell_type": "code",
   "execution_count": 20,
   "metadata": {
    "vscode": {
     "languageId": "ocaml"
    }
   },
   "outputs": [
    {
     "data": {
      "text/plain": [
       "val inc : int -> int = <fun>\n"
      ]
     },
     "execution_count": 20,
     "metadata": {},
     "output_type": "execute_result"
    },
    {
     "data": {
      "text/plain": [
       "val triple_inc : int -> int = <fun>\n"
      ]
     },
     "execution_count": 20,
     "metadata": {},
     "output_type": "execute_result"
    },
    {
     "data": {
      "text/plain": [
       "val result : int = 5\n"
      ]
     },
     "execution_count": 20,
     "metadata": {},
     "output_type": "execute_result"
    }
   ],
   "source": [
    "let inc x = x + 1\n",
    "let triple_inc x = inc (inc (inc x))\n",
    "(*\n",
    "let triple_inc = fun x -> inc (inc (inc x))\n",
    "*)\n",
    "let result = triple_inc 2"
   ]
  },
  {
   "cell_type": "code",
   "execution_count": null,
   "metadata": {
    "vscode": {
     "languageId": "ocaml"
    }
   },
   "outputs": [],
   "source": [
    "triple_inc 2\n",
    "(fun x -> inc (inc (inc x))) 2\n",
    "inc (inc (inc 2))\n",
    "inc (inc (3))\n",
    "inc (4)\n",
    "5"
   ]
  },
  {
   "cell_type": "code",
   "execution_count": 26,
   "metadata": {
    "vscode": {
     "languageId": "ocaml"
    }
   },
   "outputs": [
    {
     "data": {
      "text/plain": [
       "val factorial : int -> int = <fun>\n"
      ]
     },
     "execution_count": 26,
     "metadata": {},
     "output_type": "execute_result"
    }
   ],
   "source": [
    "let rec factorial n =\n",
    "  if n = 0 then 1\n",
    "  else n * factorial (n - 1)"
   ]
  },
  {
   "cell_type": "code",
   "execution_count": 24,
   "metadata": {
    "vscode": {
     "languageId": "ocaml"
    }
   },
   "outputs": [
    {
     "name": "stdout",
     "output_type": "stream",
     "text": [
      "factorial is now traced.\n"
     ]
    }
   ],
   "source": [
    "#trace factorial;;"
   ]
  },
  {
   "cell_type": "code",
   "execution_count": 25,
   "metadata": {
    "vscode": {
     "languageId": "ocaml"
    }
   },
   "outputs": [
    {
     "name": "stdout",
     "output_type": "stream",
     "text": [
      "factorial <-- 4\n",
      "factorial <-- 3\n",
      "factorial <-- 2\n",
      "factorial <-- 1\n",
      "factorial <-- 0\n",
      "factorial --> 1\n",
      "factorial --> 1\n",
      "factorial --> 2\n",
      "factorial --> 6\n",
      "factorial --> 24\n"
     ]
    },
    {
     "data": {
      "text/plain": [
       "val result : int = 24\n"
      ]
     },
     "execution_count": 25,
     "metadata": {},
     "output_type": "execute_result"
    }
   ],
   "source": [
    "let result = factorial 4;;"
   ]
  },
  {
   "cell_type": "code",
   "execution_count": null,
   "metadata": {
    "vscode": {
     "languageId": "ocaml"
    }
   },
   "outputs": [],
   "source": [
    "let rec factorial n =\n",
    "  if n = 0 then 1\n",
    "  else n * factorial (n - 1)\n",
    "let result = factorial 4"
   ]
  },
  {
   "cell_type": "code",
   "execution_count": 21,
   "metadata": {
    "vscode": {
     "languageId": "ocaml"
    }
   },
   "outputs": [
    {
     "data": {
      "text/plain": [
       "val add : int -> int -> int = <fun>\n"
      ]
     },
     "execution_count": 21,
     "metadata": {},
     "output_type": "execute_result"
    },
    {
     "data": {
      "text/plain": [
       "val result : int = 10\n"
      ]
     },
     "execution_count": 21,
     "metadata": {},
     "output_type": "execute_result"
    }
   ],
   "source": [
    "let add x y = \n",
    "  let x = x + 1 in\n",
    "  let y = y + 2 in\n",
    "  x + y\n",
    "(*\n",
    "let add x y = \n",
    "  let x = x + 1 in\n",
    "  let y = y + 2 in\n",
    "  x + y\n",
    "*)\n",
    "\n",
    "(*\n",
    "let add x y = \n",
    "  let x = x + 1 in\n",
    "  x + y + 2\n",
    "*)\n",
    "\n",
    "(*\n",
    "let add x y = \n",
    "  x + 1 + y + 2\n",
    "*)\n",
    "let result = add 3 4"
   ]
  },
  {
   "cell_type": "code",
   "execution_count": 27,
   "metadata": {
    "vscode": {
     "languageId": "ocaml"
    }
   },
   "outputs": [
    {
     "data": {
      "text/plain": [
       "val power : int -> int -> int = <fun>\n"
      ]
     },
     "execution_count": 27,
     "metadata": {},
     "output_type": "execute_result"
    },
    {
     "data": {
      "text/plain": [
       "val result : int = 8\n"
      ]
     },
     "execution_count": 27,
     "metadata": {},
     "output_type": "execute_result"
    }
   ],
   "source": [
    "(* base ^ exp = base * base * base ^ (exp - 2).... *)\n",
    "let rec power base exp =\n",
    "  if exp = 0 then 1\n",
    "  else base * power base (exp - 1)\n",
    "let result =\n",
    "  let base = 2 in\n",
    "  let exp = 3 in\n",
    "  power base exp"
   ]
  },
  {
   "cell_type": "markdown",
   "metadata": {},
   "source": [
    "# let add a b = a + b\n",
    "let result =\n",
    "  let x = 10 in\n",
    "  let y = 20 in\n",
    "  let z = add x y in\n",
    "  z * 2\n",
    "  \n",
    "(*\n",
    "let result =\n",
    "  let x = 10 in\n",
    "  let y = 20 in\n",
    "  (add x y) * 2\n",
    "*)\n",
    "\n",
    "(*\n",
    "let result =\n",
    "  let x = 10 in\n",
    "  (add x 20) * 2\n",
    "*)\n",
    "\n",
    "(*\n",
    "let result =\n",
    "  (add 10 20) * 2\n",
    "*)"
   ]
  },
  {
   "cell_type": "code",
   "execution_count": null,
   "metadata": {
    "vscode": {
     "languageId": "ocaml"
    }
   },
   "outputs": [],
   "source": [
    "type student = { name: string; age: int; gpa: float };;\n",
    "\n",
    "let john = { name = \"John\"; age = 21; gpa = 3.8 } in\n",
    "john.name ^ \" is \" ^ string_of_int john.age ^ \" years old.\""
   ]
  },
  {
   "cell_type": "code",
   "execution_count": null,
   "metadata": {
    "vscode": {
     "languageId": "ocaml"
    }
   },
   "outputs": [],
   "source": [
    "type result = Success of string | Error of string;;\n",
    "\n",
    "let handle_result = function\n",
    "  | Success msg -> \"Success: \" ^ msg\n",
    "  | Error msg -> \"Error: \" ^ msg;;\n",
    "\n",
    "let res = Success \"File uploaded\" in\n",
    "handle_result res"
   ]
  },
  {
   "cell_type": "code",
   "execution_count": null,
   "metadata": {
    "vscode": {
     "languageId": "ocaml"
    }
   },
   "outputs": [],
   "source": [
    "type shape = \n",
    "  | Circle of float \n",
    "  | Rectangle of float * float\n",
    "\n",
    "let area s = \n",
    "  match s with\n",
    "  | Circle r -> 3.1415 *. r *. r\n",
    "  | Rectangle (w, h) -> w *. h\n",
    "\n",
    "let () = \n",
    "  Printf.printf \"Area: %.2f\\n\" (area (Circle 2.0))"
   ]
  },
  {
   "cell_type": "code",
   "execution_count": null,
   "metadata": {
    "vscode": {
     "languageId": "ocaml"
    }
   },
   "outputs": [],
   "source": [
    "let add a b = a + b\n",
    "let apply f x y = f x y  (* Pass function as argument *)\n",
    "\n",
    "let () = Printf.printf \"Result: %d\\n\" (apply add 3 4)"
   ]
  },
  {
   "cell_type": "code",
   "execution_count": null,
   "metadata": {
    "vscode": {
     "languageId": "ocaml"
    }
   },
   "outputs": [],
   "source": [
    "let add a b = a + b  (* OCaml infers int -> int -> int *)\n",
    "(* let result = add 3.5 2 (* Error: Type mismatch *) *)\n",
    "\n",
    "let () = Printf.printf \"Sum: %d\\n\" (add 1 2)"
   ]
  },
  {
   "cell_type": "code",
   "execution_count": null,
   "metadata": {
    "vscode": {
     "languageId": "ocaml"
    }
   },
   "outputs": [],
   "source": [
    "let double x = x * 2  (* Inferred: int -> int *)\n",
    "\n",
    "let () = Printf.printf \"Double: %d\\n\" (double 5)"
   ]
  },
  {
   "cell_type": "code",
   "execution_count": null,
   "metadata": {
    "vscode": {
     "languageId": "ocaml"
    }
   },
   "outputs": [],
   "source": [
    "let identity x = x  (* Inferred: 'a -> 'a *)\n",
    "\n",
    "let () = \n",
    "  Printf.printf \"Int: %d\\n\" (identity 42);\n",
    "  Printf.printf \"String: %s\\n\" (identity \"Hello\")"
   ]
  },
  {
   "cell_type": "code",
   "execution_count": null,
   "metadata": {
    "vscode": {
     "languageId": "ocaml"
    }
   },
   "outputs": [],
   "source": [
    "module Math = struct\n",
    "  let add a b = a + b\n",
    "  let multiply a b = a * b\n",
    "end\n",
    "\n",
    "let () = \n",
    "  Printf.printf \"Add: %d\\n\" (Math.add 3 4);\n",
    "  Printf.printf \"Multiply: %d\\n\" (Math.multiply 2 5)"
   ]
  },
  {
   "cell_type": "code",
   "execution_count": null,
   "metadata": {
    "vscode": {
     "languageId": "ocaml"
    }
   },
   "outputs": [],
   "source": []
  }
 ],
 "metadata": {
  "kernelspec": {
   "display_name": "OCaml 4.10",
   "language": "OCaml",
   "name": "ocaml-jupyter"
  },
  "language_info": {
   "codemirror_mode": "text/x-ocaml",
   "file_extension": ".ml",
   "mimetype": "text/x-ocaml",
   "name": "OCaml",
   "nbconverter_exporter": null,
   "pygments_lexer": "OCaml",
   "version": "4.10.0"
  }
 },
 "nbformat": 4,
 "nbformat_minor": 4
}
