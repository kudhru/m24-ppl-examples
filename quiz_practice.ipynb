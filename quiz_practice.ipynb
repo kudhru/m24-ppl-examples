{
 "cells": [
  {
   "cell_type": "markdown",
   "metadata": {},
   "source": [
    "## List of important `Ocaml` topics covered in the lectures:\n",
    "##### Note: this is not a comprehensive list of topics. I may have missed out on 2-3 topics. Please refer to the lecture material for the complete list of topics.\n",
    "\n",
    "1. `let` and `in` expressions\n",
    "2. `=` operator (equality, assignment)  \n",
    "3. `If` and `else` expression\n",
    "4. `let` definitions\n",
    "5. Anonymous functions\n",
    "6. Multi-argument functions \n",
    "7. Function definitions\n",
    "8. Function types\n",
    "9. Function application\n",
    "10. Partial application\n",
    "11. Recursive functions\n",
    "12. Mutually recursive functions\n",
    "13. Tail recursion\n",
    "14. Records\n",
    "15. Tuples\n",
    "16. Variants\n",
    "17. Recursive variants\n",
    "18. Parameterized variants\n",
    "19. `Lists`\n",
    "20. Pattern Matching\n",
    "21. `Arrays`\n",
    "22. `ref` keyword\n",
    "23. `mutable` keyword"
   ]
  },
  {
   "cell_type": "markdown",
   "metadata": {},
   "source": [
    "All the examples were generated using ChatGPT.\n",
    "\n",
    "*Ignore the warnings.*\n",
    "\n",
    "Run the code snippets one by one to see the output. You will need to setup `OCaml` to run the code snippets. \n",
    "\n",
    "Find the setup instructions here: \n",
    "[Setup instructions](https://github.com/kayceesrk/cs3100_m20?tab=readme-ov-file#running-the-jupyter-notebooks)\n",
    "\n",
    "Alternatively, you can run each code snippet on [OCaml Playground](https://ocaml.org/play)\n",
    "\n",
    "\n"
   ]
  },
  {
   "cell_type": "code",
   "execution_count": 33,
   "metadata": {
    "vscode": {
     "languageId": "ocaml"
    }
   },
   "outputs": [
    {
     "data": {
      "text/plain": [
       "- : int = 15\n"
      ]
     },
     "execution_count": 33,
     "metadata": {},
     "output_type": "execute_result"
    }
   ],
   "source": [
    "let x = 10 in x + 5"
   ]
  },
  {
   "cell_type": "code",
   "execution_count": 34,
   "metadata": {
    "vscode": {
     "languageId": "ocaml"
    }
   },
   "outputs": [
    {
     "data": {
      "text/plain": [
       "- : int = 17\n"
      ]
     },
     "execution_count": 34,
     "metadata": {},
     "output_type": "execute_result"
    }
   ],
   "source": [
    "(* What is the output of the following code snippet? *)\n",
    "let x = 10 in\n",
    "let y = x + 2 in\n",
    "let x = 5 in\n",
    "x + y;;\n",
    "\n",
    "(*\n",
    "let x = 10 in\n",
    "(let y = 10 + 2 in\n",
    "(let x = 5 in\n",
    "5 + 12));;\n",
    "*)"
   ]
  },
  {
   "cell_type": "code",
   "execution_count": 35,
   "metadata": {
    "vscode": {
     "languageId": "ocaml"
    }
   },
   "outputs": [
    {
     "data": {
      "text/plain": [
       "- : int = 4\n"
      ]
     },
     "execution_count": 35,
     "metadata": {},
     "output_type": "execute_result"
    }
   ],
   "source": [
    "(* What is the output of the following code snippet? *)\n",
    "let a = 4 in\n",
    "let b = a * 2 in\n",
    "let c = b + a in\n",
    "c - b;;\n",
    "\n",
    "(*\n",
    "let a = 4 in\n",
    "(let b = 4 * 2 in\n",
    "(let c = 8 + 4 in\n",
    "12 - 8));;\n",
    "*)"
   ]
  },
  {
   "cell_type": "code",
   "execution_count": 40,
   "metadata": {
    "vscode": {
     "languageId": "ocaml"
    }
   },
   "outputs": [
    {
     "data": {
      "text/plain": [
       "- : int = 11\n"
      ]
     },
     "execution_count": 40,
     "metadata": {},
     "output_type": "execute_result"
    },
    {
     "data": {
      "text/plain": [
       "val f : int -> int = <fun>\n"
      ]
     },
     "execution_count": 40,
     "metadata": {},
     "output_type": "execute_result"
    },
    {
     "data": {
      "text/plain": [
       "- : int = 21\n"
      ]
     },
     "execution_count": 40,
     "metadata": {},
     "output_type": "execute_result"
    }
   ],
   "source": [
    "(fun z -> z + 1) 10;;\n",
    "let f = fun x -> x + 1;;\n",
    "f 20;;"
   ]
  },
  {
   "cell_type": "code",
   "execution_count": 41,
   "metadata": {
    "vscode": {
     "languageId": "ocaml"
    }
   },
   "outputs": [
    {
     "data": {
      "text/plain": [
       "- : int -> int = <fun>\n"
      ]
     },
     "execution_count": 41,
     "metadata": {},
     "output_type": "execute_result"
    }
   ],
   "source": [
    "(let z = 2 + 3 in fun w -> z * w)"
   ]
  },
  {
   "cell_type": "code",
   "execution_count": 43,
   "metadata": {
    "vscode": {
     "languageId": "ocaml"
    }
   },
   "outputs": [
    {
     "data": {
      "text/plain": [
       "- : int = 20\n"
      ]
     },
     "execution_count": 43,
     "metadata": {},
     "output_type": "execute_result"
    }
   ],
   "source": [
    "(* What is the output of the following code snippet? *)\n",
    "let x = 2 in\n",
    "let y = 3 in\n",
    "let f = let z = x + y in fun w -> z * w in\n",
    "f 4;;\n",
    "\n",
    "(*\n",
    "let x = 2 in\n",
    "(let y = 3 in\n",
    "let f = fun w -> 5 * w in\n",
    "f 4);;\n",
    "*)"
   ]
  },
  {
   "cell_type": "code",
   "execution_count": 45,
   "metadata": {
    "vscode": {
     "languageId": "ocaml"
    }
   },
   "outputs": [
    {
     "data": {
      "text/plain": [
       "- : bool = false\n"
      ]
     },
     "execution_count": 45,
     "metadata": {},
     "output_type": "execute_result"
    }
   ],
   "source": [
    "(* What is the output of the following code snippet? *)\n",
    "3=4;;"
   ]
  },
  {
   "cell_type": "code",
   "execution_count": 47,
   "metadata": {
    "vscode": {
     "languageId": "ocaml"
    }
   },
   "outputs": [
    {
     "data": {
      "text/plain": [
       "- : bool = false\n"
      ]
     },
     "execution_count": 47,
     "metadata": {},
     "output_type": "execute_result"
    }
   ],
   "source": [
    "(* What is the output of the following code snippet? *)\n",
    "let a = \"hello\" in\n",
    "let b = \"hell\" in\n",
    "a = b;;"
   ]
  },
  {
   "cell_type": "code",
   "execution_count": 50,
   "metadata": {
    "vscode": {
     "languageId": "ocaml"
    }
   },
   "outputs": [
    {
     "data": {
      "text/plain": [
       "- : bool = false\n"
      ]
     },
     "execution_count": 50,
     "metadata": {},
     "output_type": "execute_result"
    }
   ],
   "source": [
    "(* What is the output of the following code snippet? *)\n",
    "let x = [1; 2; 3] in\n",
    "let y = [1; 2; 5] in\n",
    "x = y;;\n"
   ]
  },
  {
   "cell_type": "code",
   "execution_count": 57,
   "metadata": {
    "vscode": {
     "languageId": "ocaml"
    }
   },
   "outputs": [
    {
     "data": {
      "text/plain": [
       "val abc : int = 0\n"
      ]
     },
     "execution_count": 57,
     "metadata": {},
     "output_type": "execute_result"
    }
   ],
   "source": [
    "let abc = 0;;"
   ]
  },
  {
   "cell_type": "code",
   "execution_count": 55,
   "metadata": {
    "vscode": {
     "languageId": "ocaml"
    }
   },
   "outputs": [
    {
     "data": {
      "text/plain": [
       "val a : int ref = {contents = 0}\n"
      ]
     },
     "execution_count": 55,
     "metadata": {},
     "output_type": "execute_result"
    },
    {
     "data": {
      "text/plain": [
       "- : int = 0\n"
      ]
     },
     "execution_count": 55,
     "metadata": {},
     "output_type": "execute_result"
    },
    {
     "data": {
      "text/plain": [
       "- : unit = ()\n"
      ]
     },
     "execution_count": 55,
     "metadata": {},
     "output_type": "execute_result"
    },
    {
     "data": {
      "text/plain": [
       "- : int = 5\n"
      ]
     },
     "execution_count": 55,
     "metadata": {},
     "output_type": "execute_result"
    }
   ],
   "source": [
    "let a = ref 0;;\n",
    "!a ;;\n",
    "a := 5;;\n",
    "!a ;;"
   ]
  },
  {
   "cell_type": "code",
   "execution_count": 58,
   "metadata": {
    "vscode": {
     "languageId": "ocaml"
    }
   },
   "outputs": [
    {
     "data": {
      "text/plain": [
       "- : bool = true\n"
      ]
     },
     "execution_count": 58,
     "metadata": {},
     "output_type": "execute_result"
    }
   ],
   "source": [
    "(* What is the output of the following code snippet? *)\n",
    "let x = ref 10 in\n",
    "let y = ref 10 in\n",
    "x = y;;"
   ]
  },
  {
   "cell_type": "code",
   "execution_count": null,
   "metadata": {
    "vscode": {
     "languageId": "ocaml"
    }
   },
   "outputs": [],
   "source": [
    "(* What is the output of the following code snippet? *)\n",
    "let x = [1; 2] in\n",
    "let y = x in\n",
    "x = y;;"
   ]
  },
  {
   "cell_type": "code",
   "execution_count": 59,
   "metadata": {
    "vscode": {
     "languageId": "ocaml"
    }
   },
   "outputs": [
    {
     "data": {
      "text/plain": [
       "- : int = 10\n"
      ]
     },
     "execution_count": 59,
     "metadata": {},
     "output_type": "execute_result"
    }
   ],
   "source": [
    "(* What is the output of the following code snippet? *)\n",
    "let a = 4 in\n",
    "let b = 6 in\n",
    "if a + b > 10 then a * b else a + b;;"
   ]
  },
  {
   "cell_type": "code",
   "execution_count": 60,
   "metadata": {
    "vscode": {
     "languageId": "ocaml"
    }
   },
   "outputs": [
    {
     "data": {
      "text/plain": [
       "- : int = 13\n"
      ]
     },
     "execution_count": 60,
     "metadata": {},
     "output_type": "execute_result"
    }
   ],
   "source": [
    "(* What is the output of the following code snippet? *)\n",
    "let x = 5 in\n",
    "let y = if x > 0 then x * 2 else x / 2 in\n",
    "y + 3;;"
   ]
  },
  {
   "cell_type": "code",
   "execution_count": 63,
   "metadata": {
    "vscode": {
     "languageId": "ocaml"
    }
   },
   "outputs": [
    {
     "data": {
      "text/plain": [
       "val f : int -> string = <fun>\n"
      ]
     },
     "execution_count": 63,
     "metadata": {},
     "output_type": "execute_result"
    },
    {
     "data": {
      "text/plain": [
       "- : string = \"odd\"\n"
      ]
     },
     "execution_count": 63,
     "metadata": {},
     "output_type": "execute_result"
    },
    {
     "data": {
      "text/plain": [
       "- : string = \"even\"\n"
      ]
     },
     "execution_count": 63,
     "metadata": {},
     "output_type": "execute_result"
    }
   ],
   "source": [
    "let f x = if x mod 2 = 0 then \"even\" else \"odd\";;\n",
    "(* let f = fun x -> if x mod 2 = 0 then \"even\" else \"odd\" *)\n",
    "f 5;;\n",
    "f 10;;"
   ]
  },
  {
   "cell_type": "code",
   "execution_count": 64,
   "metadata": {
    "vscode": {
     "languageId": "ocaml"
    }
   },
   "outputs": [
    {
     "data": {
      "text/plain": [
       "- : int = 11\n"
      ]
     },
     "execution_count": 64,
     "metadata": {},
     "output_type": "execute_result"
    }
   ],
   "source": [
    "(* What is the output of the following code snippet? *)\n",
    "let f x = if x mod 2 = 0 then \"even\" else \"odd\" in\n",
    "let result = if f 5 = \"odd\" then 1 else 0 in\n",
    "result + if f 8 = \"even\" then 10 else -10;;\n",
    "\n",
    "(*\n",
    "let f x = if x mod 2 = 0 then \"even\" else \"odd\" in\n",
    "let result = 1 in\n",
    "1 + 10;;\n",
    "*)"
   ]
  },
  {
   "cell_type": "code",
   "execution_count": 74,
   "metadata": {
    "vscode": {
     "languageId": "ocaml"
    }
   },
   "outputs": [
    {
     "data": {
      "text/plain": [
       "val abc : 'a -> int = <fun>\n"
      ]
     },
     "execution_count": 74,
     "metadata": {},
     "output_type": "execute_result"
    }
   ],
   "source": [
    "let abc = fun test -> 0;;"
   ]
  },
  {
   "cell_type": "code",
   "execution_count": 66,
   "metadata": {
    "vscode": {
     "languageId": "ocaml"
    }
   },
   "outputs": [
    {
     "data": {
      "text/plain": [
       "- : ('a -> 'a) -> 'a -> 'a = <fun>\n"
      ]
     },
     "execution_count": 66,
     "metadata": {},
     "output_type": "execute_result"
    }
   ],
   "source": [
    "fun f x -> f (f x)\n",
    "fun f -> (fun x -> f (f x))"
   ]
  },
  {
   "cell_type": "code",
   "execution_count": 82,
   "metadata": {
    "vscode": {
     "languageId": "ocaml"
    }
   },
   "outputs": [
    {
     "data": {
      "text/plain": [
       "val apply_twice : 'a -> 'b -> 'a * 'b = <fun>\n"
      ]
     },
     "execution_count": 82,
     "metadata": {},
     "output_type": "execute_result"
    }
   ],
   "source": [
    "(* let apply_twice = fun f x -> f (f x) *)\n",
    "\n",
    "let apply_twice = fun f -> fun x -> f (f x)"
   ]
  },
  {
   "cell_type": "code",
   "execution_count": 68,
   "metadata": {
    "vscode": {
     "languageId": "ocaml"
    }
   },
   "outputs": [
    {
     "data": {
      "text/plain": [
       "- : int = 5\n"
      ]
     },
     "execution_count": 68,
     "metadata": {},
     "output_type": "execute_result"
    }
   ],
   "source": [
    "let apply_twice f x = f (f x) in\n",
    "apply_twice (fun y -> y + 1) 3;;"
   ]
  },
  {
   "cell_type": "code",
   "execution_count": 67,
   "metadata": {
    "vscode": {
     "languageId": "ocaml"
    }
   },
   "outputs": [
    {
     "data": {
      "text/plain": [
       "- : int = 5\n"
      ]
     },
     "execution_count": 67,
     "metadata": {},
     "output_type": "execute_result"
    }
   ],
   "source": [
    "(* What is the output of the following code snippet? *)\n",
    "let apply_twice = fun f x -> f (f x) in\n",
    "apply_twice (fun y -> y + 1) 3;;\n",
    "\n",
    "(fun f x -> f (f x)) (fun y -> y + 1) 3\n",
    "\n",
    "\n",
    "(*\n",
    "(fun f x -> f (f x)) (fun y -> y + 1) 3\n",
    "(fun f -> (fun x -> f (f x))) (fun y -> y + 1) 3\n",
    "(fun x -> (fun y -> y + 1) ((fun y -> y + 1) x)) 3\n",
    "(fun y -> y + 1) ((fun y -> y + 1) 3)\n",
    "(fun y -> y + 1) (4)\n",
    "*)"
   ]
  },
  {
   "cell_type": "code",
   "execution_count": null,
   "metadata": {
    "vscode": {
     "languageId": "ocaml"
    }
   },
   "outputs": [],
   "source": [
    "let rec func_name func_arg = func_body;;\n",
    "let rec func_name = fun func_arg -> func_body;;"
   ]
  },
  {
   "cell_type": "code",
   "execution_count": 85,
   "metadata": {
    "vscode": {
     "languageId": "ocaml"
    }
   },
   "outputs": [
    {
     "ename": "error",
     "evalue": "compile_error",
     "output_type": "error",
     "traceback": [
      "File \"[85]\", line 5, characters 0-6:\n5 | double increment 3;;\n    ^^^^^^\nError: This function has type int -> int\n       It is applied to too many arguments; maybe you forgot a `;'.\n"
     ]
    }
   ],
   "source": [
    "(* What is the output of the following code snippet? *)\n",
    "let compose = fun f g -> fun x -> f (g x) in\n",
    "let double = fun x -> x * 2 in\n",
    "let increment = fun y -> y + 1 in\n",
    "compose double increment 3;;\n",
    "\n",
    "\n",
    "(* ((fun f g -> fun x -> f (g x)) (fun x -> x * 2) (fun y -> y + 1)) 3\n",
    "(fun x -> (fun x -> x * 2) ((fun y -> y + 1) x)) 3\n",
    "(fun x -> x * 2) ((fun y -> y + 1) 3)\n",
    "(fun x -> x * 2) (4) *)\n"
   ]
  },
  {
   "cell_type": "code",
   "execution_count": 86,
   "metadata": {
    "vscode": {
     "languageId": "ocaml"
    }
   },
   "outputs": [
    {
     "data": {
      "text/plain": [
       "- : int = 120\n"
      ]
     },
     "execution_count": 86,
     "metadata": {},
     "output_type": "execute_result"
    }
   ],
   "source": [
    "(* What is the output of the following code snippet? *)\n",
    "let rec factorial n =\n",
    "  if n = 0 then 1\n",
    "  else n * factorial (n - 1) in\n",
    "factorial 5;;\n",
    "\n",
    "(*5 * 4 * 3 * 2 * 1*)"
   ]
  },
  {
   "cell_type": "code",
   "execution_count": null,
   "metadata": {
    "vscode": {
     "languageId": "ocaml"
    }
   },
   "outputs": [],
   "source": [
    "(* What is the output of the following code snippet? *)\n",
    "let rec fibonacci n =\n",
    "  if n <= 1 then n\n",
    "  else fibonacci (n - 1) - fibonacci (n - 3) in\n",
    "fibonacci 6;;"
   ]
  },
  {
   "cell_type": "code",
   "execution_count": null,
   "metadata": {
    "vscode": {
     "languageId": "ocaml"
    }
   },
   "outputs": [],
   "source": [
    "(* What is the type of the following code snippet? *)\n",
    "let square x = x * x;;"
   ]
  },
  {
   "cell_type": "code",
   "execution_count": null,
   "metadata": {
    "vscode": {
     "languageId": "ocaml"
    }
   },
   "outputs": [],
   "source": [
    "(* What is the type of the following code snippet? *)\n",
    "let add x y = x + y;;"
   ]
  },
  {
   "cell_type": "code",
   "execution_count": null,
   "metadata": {
    "vscode": {
     "languageId": "ocaml"
    }
   },
   "outputs": [],
   "source": [
    "(* What is the type of the following code snippet? *)\n",
    "let add_actual x = fun y -> x + y;;"
   ]
  },
  {
   "cell_type": "code",
   "execution_count": null,
   "metadata": {
    "vscode": {
     "languageId": "ocaml"
    }
   },
   "outputs": [],
   "source": [
    "(* What is the type of the following code snippet? *)\n",
    "let compose f g x = f (g x);;"
   ]
  },
  {
   "cell_type": "code",
   "execution_count": null,
   "metadata": {
    "vscode": {
     "languageId": "ocaml"
    }
   },
   "outputs": [],
   "source": [
    "(* What is the output of the following code snippet? *)\n",
    "let apply_twice f x = f (f x) in\n",
    "apply_twice (fun y -> y + 2) 5;;"
   ]
  },
  {
   "cell_type": "code",
   "execution_count": null,
   "metadata": {
    "vscode": {
     "languageId": "ocaml"
    }
   },
   "outputs": [],
   "source": [
    "(* What is the output of the following code snippet? *)\n",
    "let compose f g x = f (g x) in\n",
    "compose (fun y -> y * y) (fun z -> z + 3) 2;;"
   ]
  },
  {
   "cell_type": "code",
   "execution_count": 92,
   "metadata": {
    "vscode": {
     "languageId": "ocaml"
    }
   },
   "outputs": [
    {
     "data": {
      "text/plain": [
       "- : float = 4096.\n"
      ]
     },
     "execution_count": 92,
     "metadata": {},
     "output_type": "execute_result"
    }
   ],
   "source": [
    "(* What is the output of the following code snippet? *)\n",
    "2. ** 3. ** 4.;; (* Using OCaml's built-in exponentiation operator *) \n",
    "(* 2 ** 3;; *)\n",
    "\n"
   ]
  },
  {
   "cell_type": "code",
   "execution_count": 94,
   "metadata": {
    "vscode": {
     "languageId": "ocaml"
    }
   },
   "outputs": [
    {
     "data": {
      "text/plain": [
       "- : float list = [1.; 4.; 9.]\n"
      ]
     },
     "execution_count": 94,
     "metadata": {},
     "output_type": "execute_result"
    }
   ],
   "source": [
    "(* What is the output of the following code snippet? *)\n",
    "let lst = [1.; 2.; 3.] in\n",
    "List.map (fun x -> x ** 2.) lst;;"
   ]
  },
  {
   "cell_type": "code",
   "execution_count": 105,
   "metadata": {
    "vscode": {
     "languageId": "ocaml"
    }
   },
   "outputs": [
    {
     "data": {
      "text/plain": [
       "val sum : float -> float -> float = <fun>\n"
      ]
     },
     "execution_count": 105,
     "metadata": {},
     "output_type": "execute_result"
    },
    {
     "name": "stdout",
     "output_type": "stream",
     "text": [
      "sum was not traced.\n"
     ]
    },
    {
     "data": {
      "text/plain": [
       "- : float = 16.\n"
      ]
     },
     "execution_count": 105,
     "metadata": {},
     "output_type": "execute_result"
    }
   ],
   "source": [
    "(* What is the output of the following code snippet? *)\n",
    "let sum = fun acc x -> acc +. x;; \n",
    "#untrace sum;;\n",
    "let lst = [1.; 2.; 3.] in\n",
    "List.fold_left sum 10. lst;;\n",
    "\n",
    "(* (fun acc x -> x + acc) 0. 1.\n",
    "(fun acc x -> x + acc) 1. 2.\n",
    "(fun acc x -> x + acc) 3. 3. *)\n",
    "(* acc = acc + 1 = 1\n",
    "acc = acc + 2 = 3\n",
    "acc = acc + 3 = 6 *)"
   ]
  },
  {
   "cell_type": "code",
   "execution_count": 110,
   "metadata": {
    "vscode": {
     "languageId": "ocaml"
    }
   },
   "outputs": [
    {
     "data": {
      "text/plain": [
       "- : ('a -> 'b -> 'a) -> 'a -> 'b list -> 'a = <fun>\n"
      ]
     },
     "execution_count": 110,
     "metadata": {},
     "output_type": "execute_result"
    }
   ],
   "source": [
    "List.fold_left"
   ]
  },
  {
   "cell_type": "code",
   "execution_count": 103,
   "metadata": {
    "vscode": {
     "languageId": "ocaml"
    }
   },
   "outputs": [
    {
     "data": {
      "text/plain": [
       "val sum_right : float -> float -> float = <fun>\n"
      ]
     },
     "execution_count": 103,
     "metadata": {},
     "output_type": "execute_result"
    },
    {
     "name": "stdout",
     "output_type": "stream",
     "text": [
      "sum_right was not traced.\n"
     ]
    },
    {
     "data": {
      "text/plain": [
       "- : float = 6.\n"
      ]
     },
     "execution_count": 103,
     "metadata": {},
     "output_type": "execute_result"
    }
   ],
   "source": [
    "let sum_right = fun x acc -> acc +. x;; \n",
    "#untrace sum_right;;\n",
    "let lst = [1.; 2.; 3.] in\n",
    "List.fold_right sum_right lst 0.;;"
   ]
  },
  {
   "cell_type": "code",
   "execution_count": 106,
   "metadata": {
    "vscode": {
     "languageId": "ocaml"
    }
   },
   "outputs": [
    {
     "data": {
      "text/plain": [
       "- : float = 9.\n"
      ]
     },
     "execution_count": 106,
     "metadata": {},
     "output_type": "execute_result"
    }
   ],
   "source": [
    "let lst = [1.; 2.; 3.] in\n",
    "List.fold_left (fun acc x -> x ** acc) 1. lst;;\n",
    "\n",
    "(* (fun acc x -> x ** acc) 1. 1.\n",
    "(fun acc x -> x ** acc) 1. 2.\n",
    "(fun acc x -> x ** acc) 2. 3. *)"
   ]
  },
  {
   "cell_type": "code",
   "execution_count": 108,
   "metadata": {
    "vscode": {
     "languageId": "ocaml"
    }
   },
   "outputs": [
    {
     "data": {
      "text/plain": [
       "- : float = 1.\n"
      ]
     },
     "execution_count": 108,
     "metadata": {},
     "output_type": "execute_result"
    },
    {
     "ename": "error",
     "evalue": "compile_error",
     "output_type": "error",
     "traceback": [
      "File \"[108]\", line 5, characters 0-23:\n5 | (fun x acc -> x ** acc) 3. 1.\n    ^^^^^^^^^^^^^^^^^^^^^^^\nError: This function has type float -> float -> float\n       It is applied to too many arguments; maybe you forgot a `;'.\n"
     ]
    }
   ],
   "source": [
    "(* What is the output of the following code snippet? *)\n",
    "let lst = [1.; 2.; 3.] in\n",
    "List.fold_right (fun x acc -> x ** acc) lst 1.;;\n",
    "\n",
    "(* (fun x acc -> x ** acc) 3. 1.\n",
    "(fun x acc -> x ** acc) 2. 3.\n",
    "(fun x acc -> x ** acc) 1. 8. *)"
   ]
  },
  {
   "cell_type": "code",
   "execution_count": null,
   "metadata": {
    "vscode": {
     "languageId": "ocaml"
    }
   },
   "outputs": [],
   "source": [
    "(* What is the output of the following code snippet? *)\n",
    "2. ** 3.;; (* Using OCaml's built-in exponentiation operator *) "
   ]
  },
  {
   "cell_type": "code",
   "execution_count": 109,
   "metadata": {
    "vscode": {
     "languageId": "ocaml"
    }
   },
   "outputs": [
    {
     "data": {
      "text/plain": [
       "val divide_actual : int -> int -> int = <fun>\n"
      ]
     },
     "execution_count": 109,
     "metadata": {},
     "output_type": "execute_result"
    }
   ],
   "source": [
    "(* what is the type of the following code snippet?    *)\n",
    "let divide_actual = fun x -> fun y -> x / y;;"
   ]
  },
  {
   "cell_type": "code",
   "execution_count": null,
   "metadata": {
    "vscode": {
     "languageId": "ocaml"
    }
   },
   "outputs": [],
   "source": [
    "(* what is the type of the following code snippet?    *)\n",
    "let divide x y = x / y in\n",
    "let half = divide 2 in half;;"
   ]
  },
  {
   "cell_type": "code",
   "execution_count": null,
   "metadata": {
    "vscode": {
     "languageId": "ocaml"
    }
   },
   "outputs": [],
   "source": [
    "(* what is the type of the following code snippet?    *)\n",
    "let divide x y = x / y\n"
   ]
  },
  {
   "cell_type": "code",
   "execution_count": 112,
   "metadata": {
    "vscode": {
     "languageId": "ocaml"
    }
   },
   "outputs": [
    {
     "ename": "error",
     "evalue": "compile_error",
     "output_type": "error",
     "traceback": [
      "File \"[112]\", line 1, characters 0-1:\n1 | 'a\n    ^\nError: Syntax error\n"
     ]
    }
   ],
   "source": [
    "'a\n",
    "'b\n",
    "'c"
   ]
  },
  {
   "cell_type": "code",
   "execution_count": 113,
   "metadata": {
    "vscode": {
     "languageId": "ocaml"
    }
   },
   "outputs": [
    {
     "data": {
      "text/plain": [
       "val apply_twice : ('a -> 'a) -> 'a -> 'a = <fun>\n"
      ]
     },
     "execution_count": 113,
     "metadata": {},
     "output_type": "execute_result"
    }
   ],
   "source": [
    "(* let apply_twice f x = f x *)\n",
    "let apply_twice f x = f (f x)\n",
    "(* let apply_twice = fun f -> fun x -> f (f x) *)\n",
    "(*\n",
    "x => 'a (integer)\n",
    "f => ('a -> 'a) \n",
    "apply_twice => ('a -> 'a) -> 'a -> 'a\n",
    "*)"
   ]
  },
  {
   "cell_type": "code",
   "execution_count": 120,
   "metadata": {
    "vscode": {
     "languageId": "ocaml"
    }
   },
   "outputs": [
    {
     "data": {
      "text/plain": [
       "val apply_twice : 'a -> 'b -> 'a = <fun>\n"
      ]
     },
     "execution_count": 120,
     "metadata": {},
     "output_type": "execute_result"
    }
   ],
   "source": [
    "(* let apply_twice f x = f x *)\n",
    "let apply_twice = fun f -> fun x -> f\n",
    "\n",
    "(* ('a -> 'b) -> 'a -> 'b\n",
    "('a -> 'a) -> 'a -> 'a\n",
    "('a -> 'b) -> 'b -> 'a\n",
    "('b -> 'a) -> 'b -> 'b *)\n",
    "(*\n",
    "x => 'a \n",
    "f => 'a -> 'b\n",
    "apply_twice => ('a -> 'b) -> 'a -> 'b\n",
    "*)"
   ]
  },
  {
   "cell_type": "code",
   "execution_count": 117,
   "metadata": {
    "vscode": {
     "languageId": "ocaml"
    }
   },
   "outputs": [
    {
     "data": {
      "text/plain": [
       "val example_function : 'a -> 'a -> bool = <fun>\n"
      ]
     },
     "execution_count": 117,
     "metadata": {},
     "output_type": "execute_result"
    },
    {
     "data": {
      "text/plain": [
       "val example_function : 'a -> 'a -> bool = <fun>\n"
      ]
     },
     "execution_count": 117,
     "metadata": {},
     "output_type": "execute_result"
    }
   ],
   "source": [
    "let example_function x y = x = y;;\n",
    "let example_function = fun x -> fun y -> x = y;;\n",
    "\n",
    "(*\n",
    "x => 'a\n",
    "y => 'a\n",
    "example_function => 'a -> 'a -> bool\n",
    "*)"
   ]
  },
  {
   "cell_type": "code",
   "execution_count": null,
   "metadata": {
    "vscode": {
     "languageId": "ocaml"
    }
   },
   "outputs": [],
   "source": [
    "(* what is the output of the following code snippet?    *)\n",
    "let apply_twice f x = f (f x) in\n",
    "let increment_by n = fun x -> x + n in\n",
    "let increment_by_two_twice = apply_twice (increment_by 2) in\n",
    "increment_by_two_twice 5"
   ]
  },
  {
   "cell_type": "code",
   "execution_count": 121,
   "metadata": {
    "vscode": {
     "languageId": "ocaml"
    }
   },
   "outputs": [
    {
     "data": {
      "text/plain": [
       "- : int = 6\n"
      ]
     },
     "execution_count": 121,
     "metadata": {},
     "output_type": "execute_result"
    }
   ],
   "source": [
    "(* what is the output of the following code snippet?    *)\n",
    "let rec f1 x =\n",
    "  if x = 0 then 1\n",
    "  else x + f2 (x - 1)\n",
    "and f2 x =\n",
    "  if x = 0 then 0\n",
    "  else x + f1 (x - 1)\n",
    "in\n",
    "f1 3\n",
    "\n",
    "(* 3 + f2 2 *)\n",
    "(* 3 + 2 + f1 1 *)\n",
    "(* 3 + 2 + 1 + f2 0 *)\n",
    "(* 3 + 2 + 1 + 0 *)"
   ]
  },
  {
   "cell_type": "code",
   "execution_count": 122,
   "metadata": {
    "vscode": {
     "languageId": "ocaml"
    }
   },
   "outputs": [
    {
     "data": {
      "text/plain": [
       "- : bool = true\n"
      ]
     },
     "execution_count": 122,
     "metadata": {},
     "output_type": "execute_result"
    }
   ],
   "source": [
    "(* what is the output of the following code snippet?    *)\n",
    "let rec is_even n =\n",
    "  if n = 0 then true\n",
    "  else is_odd (n - 1)\n",
    "and is_odd n =\n",
    "  if n = 0 then false\n",
    "  else is_even (n - 1)\n",
    "in\n",
    "is_odd 7"
   ]
  },
  {
   "cell_type": "code",
   "execution_count": 123,
   "metadata": {
    "vscode": {
     "languageId": "ocaml"
    }
   },
   "outputs": [
    {
     "data": {
      "text/plain": [
       "type shape =\n",
       "    Circle of float\n",
       "  | Rectangle of { width : float; height : float; }\n",
       "  | Triangle of float * float\n"
      ]
     },
     "execution_count": 123,
     "metadata": {},
     "output_type": "execute_result"
    }
   ],
   "source": [
    "type shape = \n",
    "  | Circle of float\n",
    "  | Rectangle of { width : float; height : float }\n",
    "  | Triangle of float * float ;;"
   ]
  },
  {
   "cell_type": "code",
   "execution_count": 126,
   "metadata": {
    "vscode": {
     "languageId": "ocaml"
    }
   },
   "outputs": [
    {
     "data": {
      "text/plain": [
       "val a : shape = Circle 1.\n"
      ]
     },
     "execution_count": 126,
     "metadata": {},
     "output_type": "execute_result"
    },
    {
     "data": {
      "text/plain": [
       "val b : shape = Rectangle {width = 1.; height = 2.}\n"
      ]
     },
     "execution_count": 126,
     "metadata": {},
     "output_type": "execute_result"
    },
    {
     "data": {
      "text/plain": [
       "val c : shape = Triangle (3., 4.)\n"
      ]
     },
     "execution_count": 126,
     "metadata": {},
     "output_type": "execute_result"
    }
   ],
   "source": [
    "let a = Circle 1.0;;\n",
    "let b = Rectangle { width = 1.0; height = 2.0 };;\n",
    "let c = Triangle (3.0, 4.0);;"
   ]
  },
  {
   "cell_type": "code",
   "execution_count": 127,
   "metadata": {
    "vscode": {
     "languageId": "ocaml"
    }
   },
   "outputs": [
    {
     "data": {
      "text/plain": [
       "type shape =\n",
       "    Circle of float\n",
       "  | Rectangle of { width : float; height : float; }\n",
       "  | Triangle of float * float\n"
      ]
     },
     "execution_count": 127,
     "metadata": {},
     "output_type": "execute_result"
    },
    {
     "data": {
      "text/plain": [
       "val area : shape -> float = <fun>\n"
      ]
     },
     "execution_count": 127,
     "metadata": {},
     "output_type": "execute_result"
    },
    {
     "data": {
      "text/plain": [
       "- : float = 20.\n"
      ]
     },
     "execution_count": 127,
     "metadata": {},
     "output_type": "execute_result"
    }
   ],
   "source": [
    "(* what is the output of the following code snippet?    *)\n",
    "type shape = \n",
    "  | Circle of float\n",
    "  | Rectangle of { width : float; height : float }\n",
    "  | Triangle of float * float ;;\n",
    "\n",
    "let area s =\n",
    "  match s with\n",
    "  | Circle r -> 3.14 *. r *. r\n",
    "  | Rectangle { width; height } -> width *. height\n",
    "  | Triangle (b, h) -> 0.5 *. b *. h ;;\n",
    "\n",
    "\n",
    "let sh = Rectangle { width = 4.0; height = 5.0 } in\n",
    "area sh"
   ]
  },
  {
   "cell_type": "code",
   "execution_count": null,
   "metadata": {
    "vscode": {
     "languageId": "ocaml"
    }
   },
   "outputs": [],
   "source": [
    "(* what is the output of the following code snippet?    *)\n",
    "type shape = \n",
    "  | Circle of float\n",
    "  | Rectangle of { width : float; height : float }\n",
    "  | Triangle of float * float ;;"
   ]
  },
  {
   "cell_type": "code",
   "execution_count": 128,
   "metadata": {
    "vscode": {
     "languageId": "ocaml"
    }
   },
   "outputs": [
    {
     "data": {
      "text/plain": [
       "type int_list = Empty | Cons of int * int_list\n"
      ]
     },
     "execution_count": 128,
     "metadata": {},
     "output_type": "execute_result"
    }
   ],
   "source": [
    "type int_list = \n",
    "  | Empty\n",
    "  | Cons of int * int_list ;;"
   ]
  },
  {
   "cell_type": "code",
   "execution_count": 132,
   "metadata": {
    "vscode": {
     "languageId": "ocaml"
    }
   },
   "outputs": [
    {
     "data": {
      "text/plain": [
       "- : int_list = Cons (1, Cons (10, Cons (20, Empty)))\n"
      ]
     },
     "execution_count": 132,
     "metadata": {},
     "output_type": "execute_result"
    }
   ],
   "source": [
    "Cons (1, Cons(10, Cons(20, Empty)))"
   ]
  },
  {
   "cell_type": "code",
   "execution_count": 134,
   "metadata": {
    "vscode": {
     "languageId": "ocaml"
    }
   },
   "outputs": [
    {
     "data": {
      "text/plain": [
       "type int_list = Empty | Cons of int * int_list\n"
      ]
     },
     "execution_count": 134,
     "metadata": {},
     "output_type": "execute_result"
    },
    {
     "name": "stderr",
     "output_type": "stream",
     "text": [
      "File \"[134]\", lines 7-9, characters 0-31:\n",
      "7 | match l with\n",
      "8 | | Empty -> 0\n",
      "9 | | Cons (x, Cons(y, _)) -> x + y\n",
      "Warning 8: this pattern-matching is not exhaustive.\n",
      "Here is an example of a case that is not matched:\n",
      "Cons (_, Empty)\n",
      "File \"[134]\", lines 7-9, characters 0-31:\n",
      "7 | match l with\n",
      "8 | | Empty -> 0\n",
      "9 | | Cons (x, Cons(y, _)) -> x + y\n",
      "Warning 8: this pattern-matching is not exhaustive.\n",
      "Here is an example of a case that is not matched:\n",
      "Cons (_, Empty)\n"
     ]
    },
    {
     "data": {
      "text/plain": [
       "- : int = 3\n"
      ]
     },
     "execution_count": 134,
     "metadata": {},
     "output_type": "execute_result"
    }
   ],
   "source": [
    "(* what is the output of the following code snippet?    *)\n",
    "type int_list = \n",
    "  | Empty\n",
    "  | Cons of int * int_list ;;\n",
    "  \n",
    "let l = Cons (1, Cons (2, Empty)) in\n",
    "match l with\n",
    "| Empty -> 0\n",
    "| Cons (x, Cons(y, _)) -> x + y"
   ]
  },
  {
   "cell_type": "code",
   "execution_count": null,
   "metadata": {
    "vscode": {
     "languageId": "ocaml"
    }
   },
   "outputs": [],
   "source": [
    "(* what is the output of the following code snippet?    *)\n",
    "type int_list = \n",
    "  | Empty\n",
    "  | Cons of int * int_list ;;\n",
    "let l = Cons (1, Cons (2, Empty)) "
   ]
  },
  {
   "cell_type": "code",
   "execution_count": 138,
   "metadata": {
    "vscode": {
     "languageId": "ocaml"
    }
   },
   "outputs": [
    {
     "data": {
      "text/plain": [
       "type int_list = Empty | Cons of int * int_list\n"
      ]
     },
     "execution_count": 138,
     "metadata": {},
     "output_type": "execute_result"
    },
    {
     "data": {
      "text/plain": [
       "val length : int_list -> int = <fun>\n"
      ]
     },
     "execution_count": 138,
     "metadata": {},
     "output_type": "execute_result"
    },
    {
     "name": "stdout",
     "output_type": "stream",
     "text": [
      "length is now traced.\n",
      "length <-- Cons (1, Cons (2, Cons (3, Empty)))\n",
      "length <-- Cons (2, Cons (3, Empty))\n",
      "length <-- Cons (3, Empty)\n",
      "length <-- Empty\n",
      "length --> 0\n",
      "length --> 1\n",
      "length --> 2\n",
      "length --> 3\n"
     ]
    },
    {
     "data": {
      "text/plain": [
       "- : int = 3\n"
      ]
     },
     "execution_count": 138,
     "metadata": {},
     "output_type": "execute_result"
    }
   ],
   "source": [
    "(* what is the output of the following code snippet?    *)\n",
    "type int_list = \n",
    "  | Empty\n",
    "  | Cons of int * int_list ;;\n",
    "\n",
    "let rec length l =\n",
    "  match l with\n",
    "  | Empty -> 0\n",
    "  | Cons (_, tail) -> 1 + length tail ;;\n",
    "#trace length;;\n",
    "let l = Cons (1, Cons (2, Cons (3, Empty))) in\n",
    "length l;;"
   ]
  },
  {
   "cell_type": "code",
   "execution_count": null,
   "metadata": {
    "vscode": {
     "languageId": "ocaml"
    }
   },
   "outputs": [],
   "source": [
    "(* what is the output of the following code snippet?    *)\n",
    "type int_tree = \n",
    "  | Leaf\n",
    "  | Node of int * int_tree * int_tree ;;\n",
    "let rec sum t =\n",
    "  match t with\n",
    "  | Leaf -> 0\n",
    "  | Node (x, left, right) -> x + sum left + sum right ;;\n",
    "let t = Node (5, Node (3, Leaf, Leaf), Node (2, Leaf, Leaf)) in\n",
    "sum t"
   ]
  },
  {
   "cell_type": "code",
   "execution_count": null,
   "metadata": {
    "vscode": {
     "languageId": "ocaml"
    }
   },
   "outputs": [],
   "source": [
    "(* what is the output of the following code snippet?    *)\n",
    "type expr = \n",
    "  | Const of int\n",
    "  | Add of expr * expr\n",
    "  | Mul of expr * expr ;;\n",
    "let rec eval e =\n",
    "  match e with\n",
    "  | Const n -> n\n",
    "  | Add (e1, e2) -> eval e1 + eval e2\n",
    "  | Mul (e1, e2) -> eval e1 * eval e2 ;;\n",
    "let e = Add (Const 2, Mul (Const 3, Const 4)) in\n",
    "eval e"
   ]
  },
  {
   "cell_type": "code",
   "execution_count": null,
   "metadata": {
    "vscode": {
     "languageId": "ocaml"
    }
   },
   "outputs": [],
   "source": [
    "(* what is the output of the following code snippet?    *)\n",
    "match 5 with\n",
    "| 1 -> \"one\"\n",
    "| 5 -> \"five\"\n",
    "| _ -> \"unknown\""
   ]
  },
  {
   "cell_type": "code",
   "execution_count": null,
   "metadata": {
    "vscode": {
     "languageId": "ocaml"
    }
   },
   "outputs": [],
   "source": [
    "(* what is the output of the following code snippet?    *)\n",
    "match [1; 2; 3] with\n",
    "| [] -> \"empty\"\n",
    "| _ :: _ -> \"non-empty\""
   ]
  },
  {
   "cell_type": "code",
   "execution_count": null,
   "metadata": {
    "vscode": {
     "languageId": "ocaml"
    }
   },
   "outputs": [],
   "source": [
    "(* what is the output of the following code snippet?    *)\n",
    "match (1, 2) with\n",
    "| (x, y) -> x + y"
   ]
  },
  {
   "cell_type": "code",
   "execution_count": null,
   "metadata": {
    "vscode": {
     "languageId": "ocaml"
    }
   },
   "outputs": [],
   "source": [
    "(* what is the output of the following code snippet?    *)\n",
    "let lst = [1; 2; 3] in\n",
    "match lst with\n",
    "| [] -> 0\n",
    "| [x] -> x\n",
    "| x :: y :: _ -> x + y"
   ]
  },
  {
   "cell_type": "code",
   "execution_count": null,
   "metadata": {
    "vscode": {
     "languageId": "ocaml"
    }
   },
   "outputs": [],
   "source": [
    "(* what is the output of the following code snippet?    *)\n",
    "type shape = \n",
    "  | Circle of float\n",
    "  | Rectangle of float * float ;;\n",
    "let s = Rectangle (3.0, 4.0) in\n",
    "match s with\n",
    "| Circle r -> r *. r *. 3.14\n",
    "| Rectangle (w, h) -> w *. h"
   ]
  },
  {
   "cell_type": "code",
   "execution_count": null,
   "metadata": {
    "vscode": {
     "languageId": "ocaml"
    }
   },
   "outputs": [],
   "source": [
    "(* what is the output of the following code snippet?    *)\n",
    "match [1; 2; 3] with\n",
    "| x :: y :: _ -> x + y\n",
    "| _ -> 0"
   ]
  },
  {
   "cell_type": "code",
   "execution_count": 140,
   "metadata": {
    "vscode": {
     "languageId": "ocaml"
    }
   },
   "outputs": [
    {
     "data": {
      "text/plain": [
       "val lst : int list = [1; 2; 3]\n"
      ]
     },
     "execution_count": 140,
     "metadata": {},
     "output_type": "execute_result"
    }
   ],
   "source": [
    "let lst = [1; 2; 3]"
   ]
  },
  {
   "cell_type": "code",
   "execution_count": 142,
   "metadata": {
    "vscode": {
     "languageId": "ocaml"
    }
   },
   "outputs": [
    {
     "data": {
      "text/plain": [
       "- : int list = [5; 4; 1; 2; 3]\n"
      ]
     },
     "execution_count": 142,
     "metadata": {},
     "output_type": "execute_result"
    }
   ],
   "source": [
    "5::4::lst;;"
   ]
  },
  {
   "cell_type": "code",
   "execution_count": 144,
   "metadata": {
    "vscode": {
     "languageId": "ocaml"
    }
   },
   "outputs": [
    {
     "data": {
      "text/plain": [
       "- : int = 3\n"
      ]
     },
     "execution_count": 144,
     "metadata": {},
     "output_type": "execute_result"
    }
   ],
   "source": [
    "(* what is the output of the following code snippet?    *)\n",
    "let lst = [1; 2; 3; 4] in\n",
    "match lst with\n",
    "| [] -> 0\n",
    "| [x] -> x\n",
    "| head::tail -> List.length tail\n",
    "(* | x :: y :: z -> List.length z *)"
   ]
  },
  {
   "cell_type": "code",
   "execution_count": null,
   "metadata": {
    "vscode": {
     "languageId": "ocaml"
    }
   },
   "outputs": [],
   "source": [
    "(* what is the output of the following code snippet?    *)\n",
    "let lst = [1; 2; 3; 4] in\n",
    "match lst with\n",
    "| [] -> 0\n",
    "| [x] -> x\n",
    "| x :: y :: z -> \n",
    "    match z with\n",
    "    | [] -> x + y\n",
    "    | a :: [b] -> a + b"
   ]
  },
  {
   "cell_type": "code",
   "execution_count": null,
   "metadata": {
    "vscode": {
     "languageId": "ocaml"
    }
   },
   "outputs": [],
   "source": [
    "(* what is the output of the following code snippet?    *)\n",
    "let lst = [[1; 2]; [3; 4]; [5]] in\n",
    "match lst with\n",
    "| [] -> 0\n",
    "| [x] -> List.length x\n",
    "| x :: y :: z -> List.hd x + List.hd y + List.length z"
   ]
  },
  {
   "cell_type": "code",
   "execution_count": null,
   "metadata": {
    "vscode": {
     "languageId": "ocaml"
    }
   },
   "outputs": [],
   "source": [
    "(* what is the output of the following code snippet?    *)\n",
    "let lst = [1; 2; 3; 4] in\n",
    "match lst with\n",
    "| x :: y :: (a :: b :: _) -> x + y + a + b\n",
    "| _ -> 0"
   ]
  },
  {
   "cell_type": "code",
   "execution_count": null,
   "metadata": {
    "vscode": {
     "languageId": "ocaml"
    }
   },
   "outputs": [],
   "source": [
    "(* what is the output of the following code snippet?    *)\n",
    "let lst = [1; 2; 3; 4; 5] in\n",
    "let rec sum_last_two l =\n",
    "  match l with\n",
    "  | [] | [_] -> 0\n",
    "  | [x; y] -> x + y\n",
    "  | _ :: tail -> sum_last_two tail\n",
    "in\n",
    "sum_last_two lst"
   ]
  },
  {
   "cell_type": "code",
   "execution_count": null,
   "metadata": {
    "vscode": {
     "languageId": "ocaml"
    }
   },
   "outputs": [],
   "source": [
    "(* what is the output of the following code snippet?    *)\n",
    "let lst = [1; 2; 3; 4] in\n",
    "let rec process_list l =\n",
    "  match l with\n",
    "  | [] -> 1\n",
    "  | [_] -> 2\n",
    "  | x :: y :: rest -> x * y + process_list rest\n",
    "in\n",
    "process_list lst"
   ]
  },
  {
   "cell_type": "code",
   "execution_count": null,
   "metadata": {
    "vscode": {
     "languageId": "ocaml"
    }
   },
   "outputs": [],
   "source": [
    "(* what is the output of the following code snippet?    *)\n",
    "let lst = [1; 2; 3; 4] in\n",
    "let rec process_list l =\n",
    "  match l with\n",
    "  | [] -> 1\n",
    "  | [_] -> 2\n",
    "  | x :: y :: rest -> x * y + process_list rest\n",
    "in\n",
    "process_list lst"
   ]
  },
  {
   "cell_type": "code",
   "execution_count": null,
   "metadata": {
    "vscode": {
     "languageId": "ocaml"
    }
   },
   "outputs": [],
   "source": [
    "(* what is the output of the following code snippet?    *)\n",
    "let lst = [1; 2; 3; 4] in\n",
    "let rec complex_match l =\n",
    "  match l with\n",
    "  | [] -> 0\n",
    "  | [_] -> 1\n",
    "  | x :: y :: rest -> \n",
    "      (match rest with\n",
    "       | [] -> x + y\n",
    "       | _ :: t -> x + y + List.hd t)\n",
    "in\n",
    "complex_match lst"
   ]
  },
  {
   "cell_type": "code",
   "execution_count": 147,
   "metadata": {
    "vscode": {
     "languageId": "ocaml"
    }
   },
   "outputs": [
    {
     "data": {
      "text/plain": [
       "val reverse_helper : 'a list -> 'a list -> 'a list = <fun>\n"
      ]
     },
     "execution_count": 147,
     "metadata": {},
     "output_type": "execute_result"
    },
    {
     "data": {
      "text/plain": [
       "val reverse : 'a list -> 'a list = <fun>\n"
      ]
     },
     "execution_count": 147,
     "metadata": {},
     "output_type": "execute_result"
    },
    {
     "data": {
      "text/plain": [
       "- : int list = [4; 3; 2; 1]\n"
      ]
     },
     "execution_count": 147,
     "metadata": {},
     "output_type": "execute_result"
    }
   ],
   "source": [
    "let rec reverse_helper lst acc = \n",
    "match lst with\n",
    "| [] -> acc\n",
    "| head::tail -> reverse_helper tail (head::acc)  \n",
    "\n",
    "let reverse lst = reverse_helper lst [];;\n",
    "\n",
    "reverse [1; 2; 3; 4];;"
   ]
  },
  {
   "cell_type": "code",
   "execution_count": 148,
   "metadata": {
    "vscode": {
     "languageId": "ocaml"
    }
   },
   "outputs": [
    {
     "data": {
      "text/plain": [
       "val lst11 : int list = [1; 2; 3; 4]\n"
      ]
     },
     "execution_count": 148,
     "metadata": {},
     "output_type": "execute_result"
    },
    {
     "data": {
      "text/plain": [
       "val lst22 : int list = [5; 6; 7; 8]\n"
      ]
     },
     "execution_count": 148,
     "metadata": {},
     "output_type": "execute_result"
    },
    {
     "data": {
      "text/plain": [
       "- : int list = [1; 2; 3; 4; 5; 6; 7; 8]\n"
      ]
     },
     "execution_count": 148,
     "metadata": {},
     "output_type": "execute_result"
    }
   ],
   "source": [
    "let lst11 = [1;2;3;4];;\n",
    "let lst22 = [5;6;7;8];;\n",
    "\n",
    "lst11 @ lst22;;"
   ]
  },
  {
   "cell_type": "code",
   "execution_count": 155,
   "metadata": {
    "vscode": {
     "languageId": "ocaml"
    }
   },
   "outputs": [
    {
     "data": {
      "text/plain": [
       "val append_helper : 'a list -> 'a list -> 'a list -> 'a list = <fun>\n"
      ]
     },
     "execution_count": 155,
     "metadata": {},
     "output_type": "execute_result"
    },
    {
     "data": {
      "text/plain": [
       "val append : 'a list -> 'a list -> 'a list = <fun>\n"
      ]
     },
     "execution_count": 155,
     "metadata": {},
     "output_type": "execute_result"
    },
    {
     "data": {
      "text/plain": [
       "- : int list = [1; 2; 3; 4]\n"
      ]
     },
     "execution_count": 155,
     "metadata": {},
     "output_type": "execute_result"
    }
   ],
   "source": [
    "let rec append_helper lst1 lst2 acc = \n",
    "  match (lst1, lst2) with\n",
    "  | ([], []) -> acc\n",
    "  | ([], head::tail) -> append_helper [] tail (head::acc)\n",
    "  | (head::tail, []) -> append_helper tail [] (head::acc)\n",
    "  | (head1::tail1, _) -> append_helper tail1 lst2 (head1::acc)\n",
    "\n",
    "let append lst1 lst2 = reverse (append_helper lst1 lst2 []);;\n",
    "\n",
    "append lst11 [];;"
   ]
  },
  {
   "cell_type": "code",
   "execution_count": 156,
   "metadata": {
    "vscode": {
     "languageId": "ocaml"
    }
   },
   "outputs": [
    {
     "data": {
      "text/plain": [
       "val append_helper : 'a list -> 'a list -> 'a list = <fun>\n"
      ]
     },
     "execution_count": 156,
     "metadata": {},
     "output_type": "execute_result"
    },
    {
     "data": {
      "text/plain": [
       "val append : 'a list -> 'a list -> 'a list = <fun>\n"
      ]
     },
     "execution_count": 156,
     "metadata": {},
     "output_type": "execute_result"
    },
    {
     "data": {
      "text/plain": [
       "- : int list = [8; 7; 6; 5; 1; 2; 3; 4]\n"
      ]
     },
     "execution_count": 156,
     "metadata": {},
     "output_type": "execute_result"
    }
   ],
   "source": [
    "let rec append_helper lst1 acc = \n",
    "  match lst1 with\n",
    "  | [] -> acc\n",
    "  | head::tail -> append_helper tail (head::acc)\n",
    "\n",
    "let append lst1 lst2 = reverse (append_helper lst1 lst2);;\n",
    "\n",
    "append lst11 lst22;;"
   ]
  },
  {
   "cell_type": "code",
   "execution_count": 162,
   "metadata": {
    "vscode": {
     "languageId": "ocaml"
    }
   },
   "outputs": [
    {
     "data": {
      "text/plain": [
       "- : int list list = [[]; [2]]\n"
      ]
     },
     "execution_count": 162,
     "metadata": {},
     "output_type": "execute_result"
    }
   ],
   "source": [
    "[]::[[2]]"
   ]
  },
  {
   "cell_type": "code",
   "execution_count": null,
   "metadata": {
    "vscode": {
     "languageId": "ocaml"
    }
   },
   "outputs": [],
   "source": [
    "(* what is the output of the following code snippet?    *)\n",
    "let arr = [|1; 2; 3; 4|] in\n",
    "match arr with\n",
    "| [||] -> 0\n",
    "| [|x|] -> x\n",
    "| [|x; y; _|] -> x + y\n",
    "| _ -> Array.length arr\n"
   ]
  },
  {
   "cell_type": "code",
   "execution_count": null,
   "metadata": {
    "vscode": {
     "languageId": "ocaml"
    }
   },
   "outputs": [],
   "source": [
    "(* what is the output of the following code snippet?    *)\n",
    "let arr = [|1; 2; 3; 4|] in\n",
    "let result =\n",
    "  match arr with\n",
    "  | [||] -> \"empty\"\n",
    "  | [|x; _; y; _|] -> string_of_int (x + y)\n",
    "  | _ -> \"default\"\n",
    "in\n",
    "result\n"
   ]
  },
  {
   "cell_type": "code",
   "execution_count": null,
   "metadata": {
    "vscode": {
     "languageId": "ocaml"
    }
   },
   "outputs": [],
   "source": [
    "(* what is the output of the following code snippet?    *)\n",
    "let arr = [|1; 2; 3|] in\n",
    "let rec sum_array a =\n",
    "  match a with\n",
    "  | [||] -> 0\n",
    "  | _ ->\n",
    "      let x = a.(0) in\n",
    "      let tail = Array.sub a 1 (Array.length a - 1) in\n",
    "      x + sum_array tail\n",
    "in\n",
    "sum_array arr\n"
   ]
  },
  {
   "cell_type": "code",
   "execution_count": null,
   "metadata": {
    "vscode": {
     "languageId": "ocaml"
    }
   },
   "outputs": [],
   "source": [
    "(* what is the output of the following code snippet?    *)\n",
    "let arr = [|10; 20; 30; 40|] in\n",
    "let rec process_array a =\n",
    "  match a with\n",
    "  | [||] -> 1\n",
    "  | [|x|] -> x\n",
    "  | _ ->\n",
    "      let first = a.(0) in\n",
    "      let last = a.(Array.length a - 1) in\n",
    "      first + last\n",
    "in\n",
    "process_array arr\n"
   ]
  },
  {
   "cell_type": "code",
   "execution_count": null,
   "metadata": {
    "vscode": {
     "languageId": "ocaml"
    }
   },
   "outputs": [],
   "source": [
    "(* what is the output of the following code snippet?    *)\n",
    "let arr = [|5; 10; 15|] in\n",
    "let rec complex_match a =\n",
    "  match a with\n",
    "  | [||] -> 0\n",
    "  | [|x|] -> x\n",
    "  | [|x; y; _|] -> x * y\n",
    "  | _ -> Array.length a\n",
    "in\n",
    "complex_match arr\n"
   ]
  },
  {
   "cell_type": "code",
   "execution_count": null,
   "metadata": {
    "vscode": {
     "languageId": "ocaml"
    }
   },
   "outputs": [],
   "source": [
    "(* what is the output of the following code snippet?    *)\n",
    "let rec double_odd_numbers l acc =\n",
    "  match l with\n",
    "  | [] -> acc\n",
    "  | x :: tail ->\n",
    "      if x mod 2 = 1 then double_odd_numbers tail (acc @ [x * 2])\n",
    "      else double_odd_numbers tail (acc @ [x])\n",
    "in\n",
    "double_odd_numbers [1; 2; 3; 4] []"
   ]
  },
  {
   "cell_type": "code",
   "execution_count": null,
   "metadata": {
    "vscode": {
     "languageId": "ocaml"
    }
   },
   "outputs": [],
   "source": [
    "(* what is the output of the following code snippet?    *)\n",
    "let rec replace_negatives_with_zero l acc =\n",
    "  match l with\n",
    "  | [] -> acc\n",
    "  | x :: tail ->\n",
    "      if x < 0 then replace_negatives_with_zero tail (acc @ [0])\n",
    "      else replace_negatives_with_zero tail (acc @ [x])\n",
    "in\n",
    "replace_negatives_with_zero [-1; 2; -3; 4] []"
   ]
  },
  {
   "cell_type": "code",
   "execution_count": null,
   "metadata": {
    "vscode": {
     "languageId": "ocaml"
    }
   },
   "outputs": [],
   "source": [
    "(* what is the output of the following code snippet?    *)\n",
    "let rec increment_alternate l acc toggle =\n",
    "  match l with\n",
    "  | [] -> acc\n",
    "  | x :: tail ->\n",
    "      if toggle then increment_alternate tail (acc @ [x + 1]) (not toggle)\n",
    "      else increment_alternate tail (acc @ [x]) (not toggle)\n",
    "in\n",
    "increment_alternate [1; 2; 3; 4; 5] [] true"
   ]
  },
  {
   "cell_type": "code",
   "execution_count": null,
   "metadata": {
    "vscode": {
     "languageId": "ocaml"
    }
   },
   "outputs": [],
   "source": [
    "(* what is the output of the following code snippet?    *)\n",
    "let rec reverse_and_double l acc =\n",
    "  match l with\n",
    "  | [] -> acc\n",
    "  | x :: tail -> reverse_and_double tail (x * 2 :: acc)\n",
    "in\n",
    "reverse_and_double [1; 2; 3] []\n"
   ]
  },
  {
   "cell_type": "code",
   "execution_count": null,
   "metadata": {
    "vscode": {
     "languageId": "ocaml"
    }
   },
   "outputs": [],
   "source": [
    "(* what is the output of the following code snippet?    *)\n",
    "let arr = [|1; 2; 3; 4|] in\n",
    "match arr with\n",
    "| [||] -> 0\n",
    "| [|x|] -> x\n",
    "| [|x; y; _|] -> x + y\n",
    "| _ -> Array.length arr\n"
   ]
  },
  {
   "cell_type": "code",
   "execution_count": null,
   "metadata": {
    "vscode": {
     "languageId": "ocaml"
    }
   },
   "outputs": [],
   "source": [
    "(* what is the output of the following code snippet?    *)\n",
    "let rec filter_and_square l acc =\n",
    "  match l with\n",
    "  | [] -> acc\n",
    "  | x :: tail ->\n",
    "      if x mod 2 = 0 then filter_and_square tail (acc @ [x * x])\n",
    "      else filter_and_square tail acc\n",
    "in\n",
    "filter_and_square [1; 2; 3; 4] []"
   ]
  },
  {
   "cell_type": "code",
   "execution_count": null,
   "metadata": {
    "vscode": {
     "languageId": "ocaml"
    }
   },
   "outputs": [],
   "source": [
    "(* what is the output of the following code snippet?    *)\n",
    "let x = ref 10 in\n",
    "x := !x + 5;\n",
    "!x"
   ]
  },
  {
   "cell_type": "code",
   "execution_count": null,
   "metadata": {
    "vscode": {
     "languageId": "ocaml"
    }
   },
   "outputs": [],
   "source": [
    "(* what is the output of the following code snippet?    *)\n",
    "type point = { mutable x: int; mutable y: int } ;;\n",
    "let p = { x = 3; y = 4 } in\n",
    "p.x <- p.x + 2;\n",
    "p.x + p.y"
   ]
  },
  {
   "cell_type": "code",
   "execution_count": null,
   "metadata": {
    "vscode": {
     "languageId": "ocaml"
    }
   },
   "outputs": [],
   "source": [
    "(* what is the output of the following code snippet?    *)\n",
    "let counter = ref 0 in\n",
    "let increment () = counter := !counter + 1 in\n",
    "increment ();\n",
    "increment ();\n",
    "!counter"
   ]
  },
  {
   "cell_type": "code",
   "execution_count": null,
   "metadata": {
    "vscode": {
     "languageId": "ocaml"
    }
   },
   "outputs": [],
   "source": [
    "(* what is the output of the following code snippet?    *)\n",
    "type rect = { mutable width: int; mutable height: int } ;;\n",
    "let r = { width = 4; height = 5 } in\n",
    "let double_size rect = \n",
    "  rect.width <- rect.width * 2;\n",
    "  rect.height <- rect.height * 2\n",
    "in\n",
    "double_size r;\n",
    "r.width + r.height\n"
   ]
  },
  {
   "cell_type": "code",
   "execution_count": null,
   "metadata": {
    "vscode": {
     "languageId": "ocaml"
    }
   },
   "outputs": [],
   "source": [
    "(* what is the output of the following code snippet?    *)\n",
    "let lst = ref [1; 2; 3] in\n",
    "lst := 0 :: !lst;\n",
    "lst := !lst @ [4];\n",
    "!lst\n"
   ]
  },
  {
   "cell_type": "code",
   "execution_count": null,
   "metadata": {
    "vscode": {
     "languageId": "ocaml"
    }
   },
   "outputs": [],
   "source": [
    "(* what is the output of the following code snippet?    *)\n",
    "let x = ref 10 in\n",
    "let y = x in\n",
    "y := 20;\n",
    "!x"
   ]
  },
  {
   "cell_type": "code",
   "execution_count": 163,
   "metadata": {
    "vscode": {
     "languageId": "ocaml"
    }
   },
   "outputs": [
    {
     "data": {
      "text/plain": [
       "- : int list = [1; 3; 3]\n"
      ]
     },
     "execution_count": 163,
     "metadata": {},
     "output_type": "execute_result"
    }
   ],
   "source": [
    "(* what is the output of the following code snippet?    *)\n",
    "let lst = ref [1; 2; 3] in\n",
    "let rec modify_list l =\n",
    "  match l with\n",
    "  | [] -> []\n",
    "  | x :: tail -> \n",
    "      if x mod 2 = 0 then x + 1 :: modify_list tail\n",
    "      else x :: modify_list tail\n",
    "in\n",
    "lst := modify_list !lst;\n",
    "!lst"
   ]
  },
  {
   "cell_type": "code",
   "execution_count": null,
   "metadata": {
    "vscode": {
     "languageId": "ocaml"
    }
   },
   "outputs": [],
   "source": [
    "(* what is the output of the following code snippet?    *)\n",
    "let x = ref 10 in\n",
    "let y = ref 20 in\n",
    "let swap_refs a b =\n",
    "  let temp = !a in\n",
    "  a := !b;\n",
    "  b := temp\n",
    "in\n",
    "swap_refs x y;\n",
    "!x + !y\n"
   ]
  },
  {
   "cell_type": "code",
   "execution_count": null,
   "metadata": {
    "vscode": {
     "languageId": "ocaml"
    }
   },
   "outputs": [],
   "source": [
    "(* what is the output of the following code snippet?    *)\n",
    "let lst = ref [10; 20; 30] in\n",
    "let sum_and_update l acc =\n",
    "  match l with\n",
    "  | [] -> acc\n",
    "  | x :: tail -> lst := tail; acc + x\n",
    "in\n",
    "let result = sum_and_update !lst 0 in\n",
    "result + List.length !lst\n"
   ]
  },
  {
   "cell_type": "code",
   "execution_count": null,
   "metadata": {
    "vscode": {
     "languageId": "ocaml"
    }
   },
   "outputs": [],
   "source": [
    "(* what is the output of the following code snippet?    *)\n",
    "let counter = ref 0 in\n",
    "let rec process_list l acc =\n",
    "  match l with\n",
    "  | [] -> acc\n",
    "  | x :: tail -> \n",
    "      counter := !counter + 1;\n",
    "      process_list tail (acc + x)\n",
    "in\n",
    "let total = process_list [1; 2; 3; 4] 0 in\n",
    "total + !counter\n"
   ]
  },
  {
   "cell_type": "code",
   "execution_count": null,
   "metadata": {
    "vscode": {
     "languageId": "ocaml"
    }
   },
   "outputs": [],
   "source": [
    "(* what is the output of the following code snippet?    *)\n",
    "let lst = ref [1; 2; 3; 4] in\n",
    "let rec reverse_with_acc l acc =\n",
    "  match l with\n",
    "  | [] -> acc\n",
    "  | x :: tail -> reverse_with_acc tail (x :: acc)\n",
    "in\n",
    "lst := reverse_with_acc !lst [];\n",
    "!lst\n"
   ]
  },
  {
   "cell_type": "code",
   "execution_count": null,
   "metadata": {
    "vscode": {
     "languageId": "ocaml"
    }
   },
   "outputs": [],
   "source": [
    "(* what is the output of the following code snippet?    *)\n",
    "let x = ref 5 in\n",
    "let y = ref [!x; !x + 1] in\n",
    "x := 10;\n",
    "y := !x :: !y;\n",
    "!y\n"
   ]
  },
  {
   "cell_type": "code",
   "execution_count": null,
   "metadata": {
    "vscode": {
     "languageId": "ocaml"
    }
   },
   "outputs": [],
   "source": [
    "(* what is the output of the following code snippet?    *)\n",
    "let (x,y,z) = (ref 1, ref 2, ref 3) in\n",
    "let lst = [x; y; z] in\n",
    "let rec update_and_sum l acc =\n",
    "  match l with\n",
    "  | [] -> acc\n",
    "  | r :: tail ->\n",
    "      r := !r + 1;  (* Increment the value inside the ref *)\n",
    "      update_and_sum tail (acc + !r)\n",
    "in\n",
    "update_and_sum lst 0"
   ]
  },
  {
   "cell_type": "code",
   "execution_count": null,
   "metadata": {
    "vscode": {
     "languageId": "ocaml"
    }
   },
   "outputs": [],
   "source": [
    "(* what is the output of the following code snippet?    *)\n",
    "let a = {contents = 10}"
   ]
  },
  {
   "cell_type": "code",
   "execution_count": null,
   "metadata": {
    "vscode": {
     "languageId": "ocaml"
    }
   },
   "outputs": [],
   "source": [
    " (* what is the output of the following code snippet?    *)\n",
    " let b = ref 10"
   ]
  },
  {
   "cell_type": "code",
   "execution_count": 164,
   "metadata": {
    "vscode": {
     "languageId": "ocaml"
    }
   },
   "outputs": [
    {
     "data": {
      "text/plain": [
       "val arr0 : int array = [|2; 3; 4; 5; 6; 7; 8|]\n"
      ]
     },
     "execution_count": 164,
     "metadata": {},
     "output_type": "execute_result"
    }
   ],
   "source": [
    "let arr0 = [| 2; 3; 4; 5; 6; 7; 8 |];;"
   ]
  },
  {
   "cell_type": "code",
   "execution_count": 165,
   "metadata": {
    "vscode": {
     "languageId": "ocaml"
    }
   },
   "outputs": [
    {
     "data": {
      "text/plain": [
       "val lst : int list = [2; 3; 4; 5; 6; 7; 8]\n"
      ]
     },
     "execution_count": 165,
     "metadata": {},
     "output_type": "execute_result"
    }
   ],
   "source": [
    "let lst = [ 2; 3; 4; 5; 6; 7; 8 ];;"
   ]
  },
  {
   "cell_type": "code",
   "execution_count": 167,
   "metadata": {
    "vscode": {
     "languageId": "ocaml"
    }
   },
   "outputs": [
    {
     "data": {
      "text/plain": [
       "val arr0 : int array = [|2; 3; 4; 5; 6; 7; 8|]\n"
      ]
     },
     "execution_count": 167,
     "metadata": {},
     "output_type": "execute_result"
    },
    {
     "data": {
      "text/plain": [
       "- : int array = [|3; 4; 5; 6; 7; 8; 9|]\n"
      ]
     },
     "execution_count": 167,
     "metadata": {},
     "output_type": "execute_result"
    },
    {
     "data": {
      "text/plain": [
       "- : unit = ()\n"
      ]
     },
     "execution_count": 167,
     "metadata": {},
     "output_type": "execute_result"
    }
   ],
   "source": [
    "let arr0 = [| 2; 3; 4; 5; 6; 7; 8 |];;\n",
    "Array.map (fun x -> x + 1) arr0;;\n",
    "Array.iter (fun x -> Printf.printf \"%d \" x) arr0;;"
   ]
  },
  {
   "cell_type": "code",
   "execution_count": 169,
   "metadata": {
    "vscode": {
     "languageId": "ocaml"
    }
   },
   "outputs": [
    {
     "data": {
      "text/plain": [
       "- : int list = [2; 1; 2; 3]\n"
      ]
     },
     "execution_count": 169,
     "metadata": {},
     "output_type": "execute_result"
    }
   ],
   "source": [
    "2::[|1;2;3|]"
   ]
  },
  {
   "cell_type": "code",
   "execution_count": null,
   "metadata": {
    "vscode": {
     "languageId": "ocaml"
    }
   },
   "outputs": [],
   "source": []
  }
 ],
 "metadata": {
  "kernelspec": {
   "display_name": "OCaml 4.10",
   "language": "OCaml",
   "name": "ocaml-jupyter"
  },
  "language_info": {
   "codemirror_mode": "text/x-ocaml",
   "file_extension": ".ml",
   "mimetype": "text/x-ocaml",
   "name": "OCaml",
   "nbconverter_exporter": null,
   "pygments_lexer": "OCaml",
   "version": "4.10.0"
  }
 },
 "nbformat": 4,
 "nbformat_minor": 2
}
